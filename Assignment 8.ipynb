{
 "cells": [
  {
   "cell_type": "markdown",
   "id": "4caf0bce",
   "metadata": {},
   "source": [
    "# Assignment 8"
   ]
  },
  {
   "cell_type": "markdown",
   "id": "f0b52852",
   "metadata": {},
   "source": [
    "### Exercise 8\n",
    "\n",
    "In the lab, a classification tree was applied to the Carseats data set after converting Sales into a qualitative response variable. Now we will seek to predict Sales using regression trees and related approaches, treating the response as a quantitative variable.\n",
    "\n",
    "(a) Split the data set into a training set and a test set."
   ]
  },
  {
   "cell_type": "code",
   "execution_count": 22,
   "id": "485bd5b9",
   "metadata": {},
   "outputs": [],
   "source": [
    "import pandas as pd\n",
    "import matplotlib.pyplot as plt\n",
    "import numpy as np\n",
    "from sklearn.model_selection import train_test_split\n",
    "from sklearn.tree import DecisionTreeRegressor, plot_tree\n",
    "from sklearn.metrics import mean_squared_error\n",
    "from sklearn.model_selection import GridSearchCV\n",
    "from sklearn.ensemble import BaggingRegressor, RandomForestRegressor, GradientBoostingRegressor\n",
    "from sklearn.preprocessing import OneHotEncoder\n",
    "from sklearn.compose import ColumnTransformer\n",
    "from sklearn.linear_model import LinearRegression, Ridge"
   ]
  },
  {
   "cell_type": "code",
   "execution_count": 3,
   "id": "ce7ee5a5",
   "metadata": {},
   "outputs": [
    {
     "data": {
      "text/html": [
       "<div>\n",
       "<style scoped>\n",
       "    .dataframe tbody tr th:only-of-type {\n",
       "        vertical-align: middle;\n",
       "    }\n",
       "\n",
       "    .dataframe tbody tr th {\n",
       "        vertical-align: top;\n",
       "    }\n",
       "\n",
       "    .dataframe thead th {\n",
       "        text-align: right;\n",
       "    }\n",
       "</style>\n",
       "<table border=\"1\" class=\"dataframe\">\n",
       "  <thead>\n",
       "    <tr style=\"text-align: right;\">\n",
       "      <th></th>\n",
       "      <th>Unnamed: 0</th>\n",
       "      <th>Sales</th>\n",
       "      <th>CompPrice</th>\n",
       "      <th>Income</th>\n",
       "      <th>Advertising</th>\n",
       "      <th>Population</th>\n",
       "      <th>Price</th>\n",
       "      <th>ShelveLoc</th>\n",
       "      <th>Age</th>\n",
       "      <th>Education</th>\n",
       "      <th>Urban</th>\n",
       "      <th>US</th>\n",
       "    </tr>\n",
       "  </thead>\n",
       "  <tbody>\n",
       "    <tr>\n",
       "      <th>0</th>\n",
       "      <td>1</td>\n",
       "      <td>9.50</td>\n",
       "      <td>138</td>\n",
       "      <td>73</td>\n",
       "      <td>11</td>\n",
       "      <td>276</td>\n",
       "      <td>120</td>\n",
       "      <td>Bad</td>\n",
       "      <td>42</td>\n",
       "      <td>17</td>\n",
       "      <td>Yes</td>\n",
       "      <td>Yes</td>\n",
       "    </tr>\n",
       "    <tr>\n",
       "      <th>1</th>\n",
       "      <td>2</td>\n",
       "      <td>11.22</td>\n",
       "      <td>111</td>\n",
       "      <td>48</td>\n",
       "      <td>16</td>\n",
       "      <td>260</td>\n",
       "      <td>83</td>\n",
       "      <td>Good</td>\n",
       "      <td>65</td>\n",
       "      <td>10</td>\n",
       "      <td>Yes</td>\n",
       "      <td>Yes</td>\n",
       "    </tr>\n",
       "    <tr>\n",
       "      <th>2</th>\n",
       "      <td>3</td>\n",
       "      <td>10.06</td>\n",
       "      <td>113</td>\n",
       "      <td>35</td>\n",
       "      <td>10</td>\n",
       "      <td>269</td>\n",
       "      <td>80</td>\n",
       "      <td>Medium</td>\n",
       "      <td>59</td>\n",
       "      <td>12</td>\n",
       "      <td>Yes</td>\n",
       "      <td>Yes</td>\n",
       "    </tr>\n",
       "    <tr>\n",
       "      <th>3</th>\n",
       "      <td>4</td>\n",
       "      <td>7.40</td>\n",
       "      <td>117</td>\n",
       "      <td>100</td>\n",
       "      <td>4</td>\n",
       "      <td>466</td>\n",
       "      <td>97</td>\n",
       "      <td>Medium</td>\n",
       "      <td>55</td>\n",
       "      <td>14</td>\n",
       "      <td>Yes</td>\n",
       "      <td>Yes</td>\n",
       "    </tr>\n",
       "    <tr>\n",
       "      <th>4</th>\n",
       "      <td>5</td>\n",
       "      <td>4.15</td>\n",
       "      <td>141</td>\n",
       "      <td>64</td>\n",
       "      <td>3</td>\n",
       "      <td>340</td>\n",
       "      <td>128</td>\n",
       "      <td>Bad</td>\n",
       "      <td>38</td>\n",
       "      <td>13</td>\n",
       "      <td>Yes</td>\n",
       "      <td>No</td>\n",
       "    </tr>\n",
       "  </tbody>\n",
       "</table>\n",
       "</div>"
      ],
      "text/plain": [
       "   Unnamed: 0  Sales  CompPrice  Income  Advertising  Population  Price  \\\n",
       "0           1   9.50        138      73           11         276    120   \n",
       "1           2  11.22        111      48           16         260     83   \n",
       "2           3  10.06        113      35           10         269     80   \n",
       "3           4   7.40        117     100            4         466     97   \n",
       "4           5   4.15        141      64            3         340    128   \n",
       "\n",
       "  ShelveLoc  Age  Education Urban   US  \n",
       "0       Bad   42         17   Yes  Yes  \n",
       "1      Good   65         10   Yes  Yes  \n",
       "2    Medium   59         12   Yes  Yes  \n",
       "3    Medium   55         14   Yes  Yes  \n",
       "4       Bad   38         13   Yes   No  "
      ]
     },
     "execution_count": 3,
     "metadata": {},
     "output_type": "execute_result"
    }
   ],
   "source": [
    "carseat = pd.read_csv(\"https://raw.githubusercontent.com/JWarmenhoven/ISLR-python/master/Notebooks/Data/Carseats.csv\")\n",
    "carseat.head()"
   ]
  },
  {
   "cell_type": "code",
   "execution_count": 4,
   "id": "8ec3bb24",
   "metadata": {},
   "outputs": [
    {
     "name": "stdout",
     "output_type": "stream",
     "text": [
      "<class 'pandas.core.frame.DataFrame'>\n",
      "RangeIndex: 400 entries, 0 to 399\n",
      "Data columns (total 12 columns):\n",
      " #   Column       Non-Null Count  Dtype  \n",
      "---  ------       --------------  -----  \n",
      " 0   Unnamed: 0   400 non-null    int64  \n",
      " 1   Sales        400 non-null    float64\n",
      " 2   CompPrice    400 non-null    int64  \n",
      " 3   Income       400 non-null    int64  \n",
      " 4   Advertising  400 non-null    int64  \n",
      " 5   Population   400 non-null    int64  \n",
      " 6   Price        400 non-null    int64  \n",
      " 7   ShelveLoc    400 non-null    object \n",
      " 8   Age          400 non-null    int64  \n",
      " 9   Education    400 non-null    int64  \n",
      " 10  Urban        400 non-null    object \n",
      " 11  US           400 non-null    object \n",
      "dtypes: float64(1), int64(8), object(3)\n",
      "memory usage: 37.6+ KB\n"
     ]
    }
   ],
   "source": [
    "carseat.info()"
   ]
  },
  {
   "cell_type": "code",
   "execution_count": 5,
   "id": "1f695788",
   "metadata": {},
   "outputs": [],
   "source": [
    "X = carseat.drop(['Sales', 'Unnamed: 0', 'ShelveLoc', 'Urban', 'US'], axis =1)\n",
    "y = carseat['Sales']\n",
    "\n",
    "X_train, X_test, y_train, y_test = train_test_split(X, y, test_size = 0.20, random_state = 100)"
   ]
  },
  {
   "cell_type": "markdown",
   "id": "e784e7bd",
   "metadata": {},
   "source": [
    "(b) Fit a regression tree to the training set. Plot the tree, and interpret the results. What test MSE do you obtain?"
   ]
  },
  {
   "cell_type": "code",
   "execution_count": 6,
   "id": "737a8611",
   "metadata": {},
   "outputs": [
    {
     "data": {
      "text/plain": [
       "6.850490213554101"
      ]
     },
     "execution_count": 6,
     "metadata": {},
     "output_type": "execute_result"
    }
   ],
   "source": [
    "tree = DecisionTreeRegressor(max_depth = 3, random_state = 100) \n",
    "tree.fit(X_train, y_train)\n",
    "y_pred = tree.predict(X_test)\n",
    "mse = mean_squared_error(y_test, y_pred)\n",
    "mse"
   ]
  },
  {
   "cell_type": "code",
   "execution_count": 7,
   "id": "43f96641",
   "metadata": {},
   "outputs": [
    {
     "data": {
      "image/png": "[encoded data removed]",
      "text/plain": [
       "<Figure size 1200x800 with 1 Axes>"
      ]
     },
     "metadata": {},
     "output_type": "display_data"
    }
   ],
   "source": [
    "plt.subplots(figsize = (12,8))\n",
    "plot_tree(tree, feature_names = X.columns, filled = True)\n",
    "plt.show()"
   ]
  },
  {
   "cell_type": "markdown",
   "id": "ff829109",
   "metadata": {},
   "source": [
    "(c) Use cross-validation in order to determine the optimal level of tree complexity. Does pruning the tree improve the test MSE?"
   ]
  },
  {
   "cell_type": "code",
   "execution_count": 8,
   "id": "fae21078",
   "metadata": {},
   "outputs": [
    {
     "name": "stdout",
     "output_type": "stream",
     "text": [
      "Best parameters: {'max_depth': 4, 'min_samples_leaf': 9}\n",
      "Best score: 6.040340079100168\n"
     ]
    }
   ],
   "source": [
    "param_grid = {'max_depth': range(1, 11), 'min_samples_leaf': range(1, 11)}\n",
    "\n",
    "tree = DecisionTreeRegressor(random_state = 42)\n",
    "grid_search = GridSearchCV(tree, param_grid, cv = 10, scoring = 'neg_mean_squared_error')\n",
    "grid_search.fit(X_train, y_train)\n",
    "\n",
    "print(\"Best parameters:\", grid_search.best_params_)\n",
    "print(\"Best score:\", -grid_search.best_score_)"
   ]
  },
  {
   "cell_type": "code",
   "execution_count": 9,
   "id": "bf3c7017",
   "metadata": {},
   "outputs": [
    {
     "data": {
      "text/plain": [
       "7.053894508807295"
      ]
     },
     "execution_count": 9,
     "metadata": {},
     "output_type": "execute_result"
    }
   ],
   "source": [
    "tree = DecisionTreeRegressor(max_depth = grid_search.best_params_['max_depth'], \n",
    "                             min_samples_leaf = grid_search.best_params_['min_samples_leaf'],\n",
    "                            random_state = 100)\n",
    "tree.fit(X_train, y_train)\n",
    "y_pred = tree.predict(X_test)\n",
    "mse = mean_squared_error(y_test, y_pred)\n",
    "mse"
   ]
  },
  {
   "cell_type": "markdown",
   "id": "f19cc1c4",
   "metadata": {},
   "source": [
    "Prunning the tree in this case does not improve the MSE"
   ]
  },
  {
   "cell_type": "markdown",
   "id": "5412694b",
   "metadata": {},
   "source": [
    "(d) Use the bagging approach in order to analyze this data. What test MSE do you obtain? Use the importance() function to determine which variables are most important."
   ]
  },
  {
   "cell_type": "code",
   "execution_count": 10,
   "id": "a55a3d4b",
   "metadata": {},
   "outputs": [
    {
     "data": {
      "text/plain": [
       "4.8935367029617485"
      ]
     },
     "execution_count": 10,
     "metadata": {},
     "output_type": "execute_result"
    }
   ],
   "source": [
    "bag_reg = BaggingRegressor(base_estimator = tree, n_estimators = 100, bootstrap = True, random_state = 100)\n",
    "bag_reg.fit(X_train, y_train)\n",
    "y_pred = bag_reg.predict(X_test)\n",
    "mse = mean_squared_error(y_test, y_pred)\n",
    "mse"
   ]
  },
  {
   "cell_type": "code",
   "execution_count": 11,
   "id": "a0a9525f",
   "metadata": {},
   "outputs": [
    {
     "data": {
      "image/png": "[encoded data removed]",
      "text/plain": [
       "<Figure size 1000x600 with 1 Axes>"
      ]
     },
     "metadata": {},
     "output_type": "display_data"
    }
   ],
   "source": [
    "importances = np.mean([tree.feature_importances_ for tree in bag_reg.estimators_], axis=0)\n",
    "indices = np.argsort(importances)[::-1]\n",
    "\n",
    "plt.figure(figsize=(10,6))\n",
    "plt.title(\"Feature importances\")\n",
    "plt.bar(range(X_train.shape[1]), importances[indices],\n",
    "       color=\"r\", align=\"center\")\n",
    "plt.xticks(range(X_train.shape[1]), X_train.columns[indices], rotation=90)\n",
    "plt.xlim([-1, X_train.shape[1]])\n",
    "plt.show()"
   ]
  },
  {
   "cell_type": "code",
   "execution_count": 12,
   "id": "c030cf81",
   "metadata": {},
   "outputs": [
    {
     "data": {
      "text/plain": [
       "4.927678801375"
      ]
     },
     "execution_count": 12,
     "metadata": {},
     "output_type": "execute_result"
    }
   ],
   "source": [
    "rf = RandomForestRegressor(n_estimators = 100, max_features = 'sqrt', random_state = 100)\n",
    "rf.fit(X_train, y_train)\n",
    "y_pred = rf.predict(X_test)\n",
    "mse = mean_squared_error(y_test, y_pred)\n",
    "mse"
   ]
  },
  {
   "cell_type": "code",
   "execution_count": 13,
   "id": "7c5b6da0",
   "metadata": {},
   "outputs": [
    {
     "name": "stdout",
     "output_type": "stream",
     "text": [
      "Variable importances:\n",
      "Price          0.274664\n",
      "Age            0.159402\n",
      "CompPrice      0.141128\n",
      "Advertising    0.127370\n",
      "Income         0.119822\n",
      "Population     0.106191\n",
      "Education      0.071422\n",
      "dtype: float64\n"
     ]
    }
   ],
   "source": [
    "importances = pd.Series(rf.feature_importances_, index=X_train.columns).sort_values(ascending=False)\n",
    "print(\"Variable importances:\")\n",
    "print(importances)"
   ]
  },
  {
   "cell_type": "markdown",
   "id": "7748992b",
   "metadata": {},
   "source": [
    "### Exercise 10\n",
    "\n",
    "We now use boosting to predict Salary in the Hitters data set (baseball data).\n",
    "\n",
    "(a) Remove the observations for whom the salary information is unknown, and then log-transform the salaries."
   ]
  },
  {
   "cell_type": "code",
   "execution_count": 14,
   "id": "6348e0bd",
   "metadata": {},
   "outputs": [
    {
     "data": {
      "text/html": [
       "<div>\n",
       "<style scoped>\n",
       "    .dataframe tbody tr th:only-of-type {\n",
       "        vertical-align: middle;\n",
       "    }\n",
       "\n",
       "    .dataframe tbody tr th {\n",
       "        vertical-align: top;\n",
       "    }\n",
       "\n",
       "    .dataframe thead th {\n",
       "        text-align: right;\n",
       "    }\n",
       "</style>\n",
       "<table border=\"1\" class=\"dataframe\">\n",
       "  <thead>\n",
       "    <tr style=\"text-align: right;\">\n",
       "      <th></th>\n",
       "      <th>Unnamed: 0</th>\n",
       "      <th>AtBat</th>\n",
       "      <th>Hits</th>\n",
       "      <th>HmRun</th>\n",
       "      <th>Runs</th>\n",
       "      <th>RBI</th>\n",
       "      <th>Walks</th>\n",
       "      <th>Years</th>\n",
       "      <th>CAtBat</th>\n",
       "      <th>CHits</th>\n",
       "      <th>...</th>\n",
       "      <th>CRuns</th>\n",
       "      <th>CRBI</th>\n",
       "      <th>CWalks</th>\n",
       "      <th>League</th>\n",
       "      <th>Division</th>\n",
       "      <th>PutOuts</th>\n",
       "      <th>Assists</th>\n",
       "      <th>Errors</th>\n",
       "      <th>Salary</th>\n",
       "      <th>NewLeague</th>\n",
       "    </tr>\n",
       "  </thead>\n",
       "  <tbody>\n",
       "    <tr>\n",
       "      <th>0</th>\n",
       "      <td>-Andy Allanson</td>\n",
       "      <td>293</td>\n",
       "      <td>66</td>\n",
       "      <td>1</td>\n",
       "      <td>30</td>\n",
       "      <td>29</td>\n",
       "      <td>14</td>\n",
       "      <td>1</td>\n",
       "      <td>293</td>\n",
       "      <td>66</td>\n",
       "      <td>...</td>\n",
       "      <td>30</td>\n",
       "      <td>29</td>\n",
       "      <td>14</td>\n",
       "      <td>A</td>\n",
       "      <td>E</td>\n",
       "      <td>446</td>\n",
       "      <td>33</td>\n",
       "      <td>20</td>\n",
       "      <td>NaN</td>\n",
       "      <td>A</td>\n",
       "    </tr>\n",
       "    <tr>\n",
       "      <th>1</th>\n",
       "      <td>-Alan Ashby</td>\n",
       "      <td>315</td>\n",
       "      <td>81</td>\n",
       "      <td>7</td>\n",
       "      <td>24</td>\n",
       "      <td>38</td>\n",
       "      <td>39</td>\n",
       "      <td>14</td>\n",
       "      <td>3449</td>\n",
       "      <td>835</td>\n",
       "      <td>...</td>\n",
       "      <td>321</td>\n",
       "      <td>414</td>\n",
       "      <td>375</td>\n",
       "      <td>N</td>\n",
       "      <td>W</td>\n",
       "      <td>632</td>\n",
       "      <td>43</td>\n",
       "      <td>10</td>\n",
       "      <td>475.0</td>\n",
       "      <td>N</td>\n",
       "    </tr>\n",
       "    <tr>\n",
       "      <th>2</th>\n",
       "      <td>-Alvin Davis</td>\n",
       "      <td>479</td>\n",
       "      <td>130</td>\n",
       "      <td>18</td>\n",
       "      <td>66</td>\n",
       "      <td>72</td>\n",
       "      <td>76</td>\n",
       "      <td>3</td>\n",
       "      <td>1624</td>\n",
       "      <td>457</td>\n",
       "      <td>...</td>\n",
       "      <td>224</td>\n",
       "      <td>266</td>\n",
       "      <td>263</td>\n",
       "      <td>A</td>\n",
       "      <td>W</td>\n",
       "      <td>880</td>\n",
       "      <td>82</td>\n",
       "      <td>14</td>\n",
       "      <td>480.0</td>\n",
       "      <td>A</td>\n",
       "    </tr>\n",
       "    <tr>\n",
       "      <th>3</th>\n",
       "      <td>-Andre Dawson</td>\n",
       "      <td>496</td>\n",
       "      <td>141</td>\n",
       "      <td>20</td>\n",
       "      <td>65</td>\n",
       "      <td>78</td>\n",
       "      <td>37</td>\n",
       "      <td>11</td>\n",
       "      <td>5628</td>\n",
       "      <td>1575</td>\n",
       "      <td>...</td>\n",
       "      <td>828</td>\n",
       "      <td>838</td>\n",
       "      <td>354</td>\n",
       "      <td>N</td>\n",
       "      <td>E</td>\n",
       "      <td>200</td>\n",
       "      <td>11</td>\n",
       "      <td>3</td>\n",
       "      <td>500.0</td>\n",
       "      <td>N</td>\n",
       "    </tr>\n",
       "    <tr>\n",
       "      <th>4</th>\n",
       "      <td>-Andres Galarraga</td>\n",
       "      <td>321</td>\n",
       "      <td>87</td>\n",
       "      <td>10</td>\n",
       "      <td>39</td>\n",
       "      <td>42</td>\n",
       "      <td>30</td>\n",
       "      <td>2</td>\n",
       "      <td>396</td>\n",
       "      <td>101</td>\n",
       "      <td>...</td>\n",
       "      <td>48</td>\n",
       "      <td>46</td>\n",
       "      <td>33</td>\n",
       "      <td>N</td>\n",
       "      <td>E</td>\n",
       "      <td>805</td>\n",
       "      <td>40</td>\n",
       "      <td>4</td>\n",
       "      <td>91.5</td>\n",
       "      <td>N</td>\n",
       "    </tr>\n",
       "  </tbody>\n",
       "</table>\n",
       "<p>5 rows × 21 columns</p>\n",
       "</div>"
      ],
      "text/plain": [
       "          Unnamed: 0  AtBat  Hits  HmRun  Runs  RBI  Walks  Years  CAtBat  \\\n",
       "0     -Andy Allanson    293    66      1    30   29     14      1     293   \n",
       "1        -Alan Ashby    315    81      7    24   38     39     14    3449   \n",
       "2       -Alvin Davis    479   130     18    66   72     76      3    1624   \n",
       "3      -Andre Dawson    496   141     20    65   78     37     11    5628   \n",
       "4  -Andres Galarraga    321    87     10    39   42     30      2     396   \n",
       "\n",
       "   CHits  ...  CRuns  CRBI  CWalks  League Division PutOuts  Assists  Errors  \\\n",
       "0     66  ...     30    29      14       A        E     446       33      20   \n",
       "1    835  ...    321   414     375       N        W     632       43      10   \n",
       "2    457  ...    224   266     263       A        W     880       82      14   \n",
       "3   1575  ...    828   838     354       N        E     200       11       3   \n",
       "4    101  ...     48    46      33       N        E     805       40       4   \n",
       "\n",
       "   Salary  NewLeague  \n",
       "0     NaN          A  \n",
       "1   475.0          N  \n",
       "2   480.0          A  \n",
       "3   500.0          N  \n",
       "4    91.5          N  \n",
       "\n",
       "[5 rows x 21 columns]"
      ]
     },
     "execution_count": 14,
     "metadata": {},
     "output_type": "execute_result"
    }
   ],
   "source": [
    "hitters = pd.read_csv(\"https://raw.githubusercontent.com/JWarmenhoven/ISLR-python/master/Notebooks/Data/Hitters.csv\")\n",
    "hitters.head()"
   ]
  },
  {
   "cell_type": "code",
   "execution_count": 15,
   "id": "0e37d26f",
   "metadata": {},
   "outputs": [
    {
     "name": "stdout",
     "output_type": "stream",
     "text": [
      "<class 'pandas.core.frame.DataFrame'>\n",
      "Index: 322 entries, -Andy Allanson to -Willie Wilson\n",
      "Data columns (total 20 columns):\n",
      " #   Column     Non-Null Count  Dtype  \n",
      "---  ------     --------------  -----  \n",
      " 0   AtBat      322 non-null    int64  \n",
      " 1   Hits       322 non-null    int64  \n",
      " 2   HmRun      322 non-null    int64  \n",
      " 3   Runs       322 non-null    int64  \n",
      " 4   RBI        322 non-null    int64  \n",
      " 5   Walks      322 non-null    int64  \n",
      " 6   Years      322 non-null    int64  \n",
      " 7   CAtBat     322 non-null    int64  \n",
      " 8   CHits      322 non-null    int64  \n",
      " 9   CHmRun     322 non-null    int64  \n",
      " 10  CRuns      322 non-null    int64  \n",
      " 11  CRBI       322 non-null    int64  \n",
      " 12  CWalks     322 non-null    int64  \n",
      " 13  League     322 non-null    object \n",
      " 14  Division   322 non-null    object \n",
      " 15  PutOuts    322 non-null    int64  \n",
      " 16  Assists    322 non-null    int64  \n",
      " 17  Errors     322 non-null    int64  \n",
      " 18  Salary     263 non-null    float64\n",
      " 19  NewLeague  322 non-null    object \n",
      "dtypes: float64(1), int64(16), object(3)\n",
      "memory usage: 52.8+ KB\n"
     ]
    }
   ],
   "source": [
    "hitters = hitters.set_index('Unnamed: 0')\n",
    "hitters.info()"
   ]
  },
  {
   "cell_type": "code",
   "execution_count": 16,
   "id": "7352ada7",
   "metadata": {},
   "outputs": [
    {
     "name": "stdout",
     "output_type": "stream",
     "text": [
      "<class 'pandas.core.frame.DataFrame'>\n",
      "Index: 263 entries, -Alan Ashby to -Willie Wilson\n",
      "Data columns (total 20 columns):\n",
      " #   Column     Non-Null Count  Dtype  \n",
      "---  ------     --------------  -----  \n",
      " 0   AtBat      263 non-null    int64  \n",
      " 1   Hits       263 non-null    int64  \n",
      " 2   HmRun      263 non-null    int64  \n",
      " 3   Runs       263 non-null    int64  \n",
      " 4   RBI        263 non-null    int64  \n",
      " 5   Walks      263 non-null    int64  \n",
      " 6   Years      263 non-null    int64  \n",
      " 7   CAtBat     263 non-null    int64  \n",
      " 8   CHits      263 non-null    int64  \n",
      " 9   CHmRun     263 non-null    int64  \n",
      " 10  CRuns      263 non-null    int64  \n",
      " 11  CRBI       263 non-null    int64  \n",
      " 12  CWalks     263 non-null    int64  \n",
      " 13  League     263 non-null    object \n",
      " 14  Division   263 non-null    object \n",
      " 15  PutOuts    263 non-null    int64  \n",
      " 16  Assists    263 non-null    int64  \n",
      " 17  Errors     263 non-null    int64  \n",
      " 18  Salary     263 non-null    float64\n",
      " 19  NewLeague  263 non-null    object \n",
      "dtypes: float64(1), int64(16), object(3)\n",
      "memory usage: 43.1+ KB\n"
     ]
    }
   ],
   "source": [
    "hitters = hitters.dropna()\n",
    "hitters.info()"
   ]
  },
  {
   "cell_type": "code",
   "execution_count": 17,
   "id": "89778a56",
   "metadata": {},
   "outputs": [],
   "source": [
    "hitters['Salary'] = np.log(hitters['Salary'])"
   ]
  },
  {
   "cell_type": "markdown",
   "id": "cd631a1a",
   "metadata": {},
   "source": [
    "(b) Create a training set consisting of the first 200 observations, and a test set consisting of the remaining observations."
   ]
  },
  {
   "cell_type": "code",
   "execution_count": 18,
   "id": "ceef4c54",
   "metadata": {},
   "outputs": [],
   "source": [
    "X = hitters.drop('Salary', axis = 1)\n",
    "y = hitters['Salary']\n",
    "X_train = X.iloc[:200, :]\n",
    "X_test = X.iloc[200:, :]\n",
    "y_train = y.iloc[:200]\n",
    "y_test = y.iloc[200:]"
   ]
  },
  {
   "cell_type": "markdown",
   "id": "1db8382a",
   "metadata": {},
   "source": [
    "(c) Perform boosting on the training set with 1,000 trees for a range of values of the shrinkage parameter λ. Produce a plot with different shrinkage values on the x-axis and the corresponding training set MSE on the y-axis."
   ]
  },
  {
   "cell_type": "code",
   "execution_count": 23,
   "id": "fa6fb047",
   "metadata": {},
   "outputs": [],
   "source": [
    "ct = ColumnTransformer([\n",
    "    ('one_hot_encoder', OneHotEncoder(sparse=False, drop='first'), ['League', 'Division', 'NewLeague'])\n",
    "], remainder='passthrough')\n",
    "\n",
    "X_train = ct.fit_transform(X_train)\n",
    "X_test = ct.transform(X_test)"
   ]
  },
  {
   "cell_type": "code",
   "execution_count": 24,
   "id": "c6121df7",
   "metadata": {},
   "outputs": [
    {
     "data": {
      "image/png": "[encoded data removed]",
      "text/plain": [
       "<Figure size 640x480 with 1 Axes>"
      ]
     },
     "metadata": {},
     "output_type": "display_data"
    }
   ],
   "source": [
    "shrinkage_vals = [0.01, 0.05, 0.1, 0.2, 0.5, 1]\n",
    "train_mses = []\n",
    "test_mses = []\n",
    "\n",
    "for shrinkage in shrinkage_vals:\n",
    "    gb = GradientBoostingRegressor(n_estimators = 1000, learning_rate = shrinkage, random_state = 0)\n",
    "    gb.fit(X_train, y_train)\n",
    "    train_mse = mean_squared_error(y_train, gb.predict(X_train))\n",
    "    train_mses.append(train_mse)\n",
    "    test_mse = mean_squared_error(y_test, gb.predict(X_test) )\n",
    "    test_mses.append(test_mse)\n",
    "    \n",
    "plt.plot(shrinkage_vals, train_mses, marker='o')\n",
    "plt.xlabel('Shrinkage')\n",
    "plt.ylabel('Training MSE')\n",
    "plt.show()"
   ]
  },
  {
   "cell_type": "code",
   "execution_count": 25,
   "id": "9adc32f3",
   "metadata": {},
   "outputs": [
    {
     "data": {
      "image/png": "[encoded data removed]",
      "text/plain": [
       "<Figure size 640x480 with 1 Axes>"
      ]
     },
     "metadata": {},
     "output_type": "display_data"
    }
   ],
   "source": [
    "plt.plot(shrinkage_vals, test_mses, 'o-')\n",
    "plt.xlabel('Shrinkage Parameter')\n",
    "plt.ylabel('Test Set MSE')\n",
    "plt.show()"
   ]
  },
  {
   "cell_type": "code",
   "execution_count": 26,
   "id": "76dc5bc5",
   "metadata": {},
   "outputs": [
    {
     "data": {
      "text/plain": [
       "0.2174847006149666"
      ]
     },
     "execution_count": 26,
     "metadata": {},
     "output_type": "execute_result"
    }
   ],
   "source": [
    "min(test_mses)"
   ]
  },
  {
   "cell_type": "markdown",
   "id": "f8362a64",
   "metadata": {},
   "source": [
    "(e) Compare the test MSE of boosting to the test MSE that results from applying two of the regression approaches seen in Chapters 3 and 6."
   ]
  },
  {
   "cell_type": "code",
   "execution_count": 27,
   "id": "de53974f",
   "metadata": {},
   "outputs": [],
   "source": [
    "lm = LinearRegression()\n",
    "lm.fit(X_train, y_train)\n",
    "lm_pred = lm.predict(X_test)\n",
    "lm_mse = mean_squared_error(y_test, lm_pred)"
   ]
  },
  {
   "cell_type": "code",
   "execution_count": 28,
   "id": "07e0dab9",
   "metadata": {},
   "outputs": [],
   "source": [
    "ridge = Ridge(alpha=1)\n",
    "ridge.fit(X_train, y_train)\n",
    "ridge_pred = ridge.predict(X_test)\n",
    "ridge_mse = mean_squared_error(y_test, ridge_pred)"
   ]
  },
  {
   "cell_type": "code",
   "execution_count": 29,
   "id": "ddeb26c6",
   "metadata": {},
   "outputs": [
    {
     "name": "stdout",
     "output_type": "stream",
     "text": [
      "Test MSE for Multiple Linear Regression: 0.49179593754549805\n",
      "Test MSE for Ridge Regression: 0.49277626094574684\n",
      "Test MSE for Boosting: 0.2174847006149666\n"
     ]
    }
   ],
   "source": [
    "print('Test MSE for Multiple Linear Regression:', lm_mse)\n",
    "print('Test MSE for Ridge Regression:', ridge_mse)\n",
    "print('Test MSE for Boosting:', min(test_mses))"
   ]
  },
  {
   "cell_type": "markdown",
   "id": "a4ea3d1f",
   "metadata": {},
   "source": [
    "(f) Which variables appear to be the most important predictors in the boosted model?"
   ]
  },
  {
   "cell_type": "code",
   "execution_count": 37,
   "id": "b3e3bba2",
   "metadata": {},
   "outputs": [
    {
     "name": "stdout",
     "output_type": "stream",
     "text": [
      "Feature importances:\n",
      "AtBat :  8.098737926188815e-05\n",
      "Hits :  2.3298262018591703e-06\n",
      "HmRun :  0.002367192988918567\n",
      "Runs :  0.0001777236511331322\n",
      "RBI :  0.08863316194034251\n",
      "Walks :  0.004537400785011832\n",
      "Years :  0.00296403064406307\n",
      "CAtBat :  0.02371399366117587\n",
      "CHits :  0.07645651606564183\n",
      "CHmRun :  0.015080455406616542\n",
      "CRuns :  0.6140725708702801\n",
      "CRBI :  0.01779072543759262\n",
      "CWalks :  0.011341541143010118\n",
      "League :  0.0620198810303522\n",
      "Division :  0.024371058949149038\n",
      "PutOuts :  0.006721812443256982\n",
      "Assists :  0.019466696140851586\n",
      "Errors :  0.01194457167508395\n",
      "NewLeague :  0.018257349962056395\n"
     ]
    }
   ],
   "source": [
    "importances = gb.feature_importances_\n",
    "features = list(X.columns)\n",
    "feature_importances = list(zip(features, importances))\n",
    "print(\"Feature importances:\")\n",
    "for feature in feature_importances:\n",
    "    print(feature[0], \": \", feature[1])"
   ]
  },
  {
   "cell_type": "markdown",
   "id": "6ed66c94",
   "metadata": {},
   "source": [
    "(g) Now apply bagging to the training set. What is the test set MSE for this approach?"
   ]
  },
  {
   "cell_type": "code",
   "execution_count": 39,
   "id": "19d08719",
   "metadata": {},
   "outputs": [
    {
     "name": "stdout",
     "output_type": "stream",
     "text": [
      "Test set MSE of bagging: 0.22469506421470534\n"
     ]
    }
   ],
   "source": [
    "rf = RandomForestRegressor(n_estimators = 500, max_features = 'sqrt')\n",
    "bag = BaggingRegressor(base_estimator = rf, n_estimators= 50, random_state = 100)\n",
    "bag.fit(X_train, y_train)\n",
    "\n",
    "y_pred = bag.predict(X_test)\n",
    "mse_bag = mean_squared_error(y_test, y_pred)\n",
    "print(\"Test set MSE of bagging:\", mse_bag)"
   ]
  },
  {
   "cell_type": "code",
   "execution_count": null,
   "id": "78751aa1",
   "metadata": {},
   "outputs": [],
   "source": []
  }
 ],
 "metadata": {
  "kernelspec": {
   "display_name": "Python 3 (ipykernel)",
   "language": "python",
   "name": "python3"
  },
  "language_info": {
   "codemirror_mode": {
    "name": "ipython",
    "version": 3
   },
   "file_extension": ".py",
   "mimetype": "text/x-python",
   "name": "python",
   "nbconvert_exporter": "python",
   "pygments_lexer": "ipython3",
   "version": "3.9.13"
  }
 },
 "nbformat": 4,
 "nbformat_minor": 5
}
